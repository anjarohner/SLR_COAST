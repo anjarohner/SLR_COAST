{
 "cells": [
  {
   "cell_type": "code",
   "execution_count": 3,
   "id": "cab4a3ab-1601-4de7-8463-1ee54cfd1e97",
   "metadata": {},
   "outputs": [],
   "source": [
    "import xarray as xr\n",
    "import matplotlib.pyplot as plt\n",
    "import warnings \n",
    "warnings.filterwarnings(\"ignore\")\n",
    "\n",
    "from tqdm import tqdm\n",
    "\n",
    "import cartopy, cartopy.crs as ccrs, cartopy.feature as cfeature, cartopy.mpl.ticker as cticker\n",
    "from cartopy.feature import NaturalEarthFeature\n",
    "from cartopy.util import add_cyclic_point\n",
    "\n",
    "from matplotlib.ticker import (MultipleLocator, AutoMinorLocator)\n",
    "import numpy as np\n",
    "\n",
    "from math import sin, cos, sqrt, atan2, radians "
   ]
  },
  {
   "cell_type": "code",
   "execution_count": 4,
   "id": "b48e36f9-1b1c-454b-af9a-516382a773eb",
   "metadata": {},
   "outputs": [],
   "source": [
    "# Approximate radius of earth in km\n",
    "R = 6373.0\n",
    "\n",
    "def get_distance(lat1, lon1, lat2, lon2):\n",
    "    lat1 = radians(lat1)\n",
    "    lon1 = radians(lon1)\n",
    "    lat2 = radians(lat2)\n",
    "    lon2 = radians(lon2)\n",
    "\n",
    "    a = sin((lat2 - lat1) / 2)**2 + cos(lat1) * cos(lat2) * sin((lon2 - lon1) / 2)**2\n",
    "    \n",
    "    return R * (2 * atan2(sqrt(a), sqrt(1 - a)))"
   ]
  },
  {
   "cell_type": "code",
   "execution_count": null,
   "id": "02cb55b5-152f-47a5-b7ab-0f674d3a7af9",
   "metadata": {},
   "outputs": [],
   "source": [
    "# Assigning Stations to Transects based on Distance\n",
    "\n",
    "# Initialize an empty dictionary to store the assignments between transects and stations\n",
    "assignment = {}\n",
    "\n",
    "# Iterate over each transect in the coastline_bbox dataset\n",
    "for i, transect in enumerate(coastline_bbox.transect):\n",
    "    x = []  # List to store the distances between coastline and stations for the current transect\n",
    "    \n",
    "    # Iterate over each station in the sealevel_bbox dataset\n",
    "    for i, station in enumerate(sealevel_bbox.station_name): \n",
    "        # Calculate the distance between the station and the transect using the get_distance function\n",
    "        x.append(\n",
    "            get_distance(\n",
    "                station.lat,     # Latitude of the station\n",
    "                station.lon,     # Longitude of the station\n",
    "                transect[\"lat\"], # Latitude of the transect\n",
    "                transect[\"lon\"]  # Longitude of the transect\n",
    "            )\n",
    "        )\n",
    "    \n",
    "    # Find the minimum distance between the transect and stations\n",
    "    min_diff = min(x)\n",
    "    \n",
    "    # Check if the minimum distance is less than 100 (you can adjust the threshold as needed)\n",
    "    if min_diff < 100:\n",
    "        # Assign the index of the station with the minimum distance to the transect\n",
    "        assignment[str(i)] = x.index(min_diff)"
   ]
  },
  {
   "cell_type": "code",
   "execution_count": 10,
   "id": "54c8f3e6-cae7-436c-8cd9-ad7ad15da7d4",
   "metadata": {},
   "outputs": [],
   "source": [
    "# Assignment of Stations to Transects\n",
    "\n",
    "# This assignment dictionary represents the mappings between transects and stations\n",
    "# The keys are the transect numbers, and the values are the corresponding station numbers\n",
    "\n",
    "assignment = {\n",
    "    \"1\": 7,    # Transect 1 is closest to Station 7\n",
    "    \"2\": 9,    # Transect 2 is closest to Station 9\n",
    "    \"199\": 7   # Transect 199 is closest to Station 7\n",
    "}"
   ]
  },
  {
   "cell_type": "code",
   "execution_count": null,
   "id": "bca8dc02-f9da-49bd-b2d6-97cc31e80d4d",
   "metadata": {},
   "outputs": [],
   "source": [
    "# Data Extraction for Transects and Stations\n",
    "\n",
    "# Initialize empty lists for x and y coordinates\n",
    "x, y = [], []\n",
    "\n",
    "# Extract transect and station indices from the assignment dictionary\n",
    "transects_idxs = [int(k) for k in assignment.keys()]\n",
    "station_idxs = assignment.values()\n",
    "\n",
    "# Iterate over the transect and station indices\n",
    "for transect_idx, station_idx in (transects_idxs, station_idxs):\n",
    "    # Append x and y values to the respective lists\n",
    "    x.append(\n",
    "        coastline_bbox[transect_idx][\"activeZone2Land\"].values.ravel()[0],  # Get a single value from coastline_bbox\n",
    "        sealevel_bbox[station_idx][\"hr\"][0] - sealevel_bbox[station_idx][\"hr\"][-1]  # Compute the difference/change over all years\n",
    "        # Alternative: Compute the mean of sealevel_bbox[station_idx][\"hr\"] along the \"time\" dimension\n",
    "    )"
   ]
  }
 ],
 "metadata": {
  "kernelspec": {
   "display_name": "Python [conda env:pikenv2]",
   "language": "python",
   "name": "conda-env-pikenv2-py"
  },
  "language_info": {
   "codemirror_mode": {
    "name": "ipython",
    "version": 3
   },
   "file_extension": ".py",
   "mimetype": "text/x-python",
   "name": "python",
   "nbconvert_exporter": "python",
   "pygments_lexer": "ipython3",
   "version": "3.11.2"
  }
 },
 "nbformat": 4,
 "nbformat_minor": 5
}
