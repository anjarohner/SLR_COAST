{
 "cells": [
  {
   "cell_type": "code",
   "execution_count": 3,
   "id": "cab4a3ab-1601-4de7-8463-1ee54cfd1e97",
   "metadata": {},
   "outputs": [],
   "source": [
    "import xarray as xr\n",
    "import matplotlib.pyplot as plt\n",
    "import warnings \n",
    "warnings.filterwarnings(\"ignore\")\n",
    "\n",
    "from tqdm import tqdm\n",
    "\n",
    "import cartopy, cartopy.crs as ccrs, cartopy.feature as cfeature, cartopy.mpl.ticker as cticker\n",
    "from cartopy.feature import NaturalEarthFeature\n",
    "from cartopy.util import add_cyclic_point\n",
    "\n",
    "from matplotlib.ticker import (MultipleLocator, AutoMinorLocator)\n",
    "import numpy as np\n",
    "\n",
    "from math import sin, cos, sqrt, atan2, radians "
   ]
  },
  {
   "cell_type": "code",
   "execution_count": 4,
   "id": "b48e36f9-1b1c-454b-af9a-516382a773eb",
   "metadata": {},
   "outputs": [],
   "source": [
    "# Approximate radius of earth in km\n",
    "R = 6373.0\n",
    "\n",
    "def get_distance(lat1, lon1, lat2, lon2):\n",
    "    lat1 = radians(lat1)\n",
    "    lon1 = radians(lon1)\n",
    "    lat2 = radians(lat2)\n",
    "    lon2 = radians(lon2)\n",
    "\n",
    "    a = sin((lat2 - lat1) / 2)**2 + cos(lat1) * cos(lat2) * sin((lon2 - lon1) / 2)**2\n",
    "    \n",
    "    return R * (2 * atan2(sqrt(a), sqrt(1 - a)))"
   ]
  },
  {
   "cell_type": "code",
   "execution_count": 7,
   "id": "02cb55b5-152f-47a5-b7ab-0f674d3a7af9",
   "metadata": {},
   "outputs": [
    {
     "ename": "NameError",
     "evalue": "name 'sealevel_bbox' is not defined",
     "output_type": "error",
     "traceback": [
      "\u001b[0;31m---------------------------------------------------------------------------\u001b[0m",
      "\u001b[0;31mNameError\u001b[0m                                 Traceback (most recent call last)",
      "Input \u001b[0;32mIn [7]\u001b[0m, in \u001b[0;36m<module>\u001b[0;34m\u001b[0m\n\u001b[0;32m----> 1\u001b[0m \u001b[38;5;28;01mfor\u001b[39;00m station \u001b[38;5;129;01min\u001b[39;00m \u001b[43msealevel_bbox\u001b[49m\u001b[38;5;241m.\u001b[39mstation_name: \n\u001b[1;32m      2\u001b[0m     \u001b[38;5;28mprint\u001b[39m(station)\n\u001b[1;32m      3\u001b[0m     lat \u001b[38;5;241m=\u001b[39m station\u001b[38;5;241m.\u001b[39mlat\n",
      "\u001b[0;31mNameError\u001b[0m: name 'sealevel_bbox' is not defined"
     ]
    }
   ],
   "source": [
    "assignment = {}\n",
    "for i, transect in enumerate(coastline_bbox.transect):\n",
    "    x = [] # beinhalted dann die distanzen zwischen coastline und transact\n",
    "    for i, station in enumerate(sealevel_bbox.station_name): \n",
    "        x.append(\n",
    "            get_distance(\n",
    "                station.lat, # lat1\n",
    "                station.lon, # lon1\n",
    "                transect[\"lat\"], # lat2\n",
    "                transect[\"lon\"]  # lon2\n",
    "            )\n",
    "        )\n",
    "    \n",
    "    min_diff = min(x)\n",
    "    if min_diff < 100:\n",
    "        assignment[str(i)] = x.index(min_diff)"
   ]
  },
  {
   "cell_type": "code",
   "execution_count": 10,
   "id": "54c8f3e6-cae7-436c-8cd9-ad7ad15da7d4",
   "metadata": {},
   "outputs": [],
   "source": [
    "assignment = {\n",
    "# station, transect\n",
    "    \"1\": 7, # transect 1 ist an station 7 am nähesten dran\n",
    "    \"2\": 9, # transect 2 ist an station 9 am nähesten dran\n",
    "    \"199\": 7 # transect 199 ist an station 7 am nähesten dran\n",
    "}"
   ]
  },
  {
   "cell_type": "code",
   "execution_count": null,
   "id": "bca8dc02-f9da-49bd-b2d6-97cc31e80d4d",
   "metadata": {},
   "outputs": [],
   "source": [
    "x, y = [], [] \n",
    "\n",
    "transects_idxs = [int(k) for k in assignment.keys()]\n",
    "station_idxs = assignment.values()\n",
    "\n",
    "for transect_idx, station_idx  in (transects_idxs, station_idxs):\n",
    "    x.append(\n",
    "        coastline_bbox[transect_idx][\"activeZone2Land\"].values.ravel()[0], # nur ein wert\n",
    "        sealevel_bbox[station_idx][\"hr\"][0] - sealevel_bbox[station_idx][\"hr\"][-1]  # ein Wert, welcher die Differenz/Veränderung über alle Jahre angibt => nimm das Jahresmittel für die Differenzen\n",
    "        # alternative: sealevel_bbox[station_idx][\"hr\"].mean(\"time\")\n",
    "    )"
   ]
  },
  {
   "cell_type": "code",
   "execution_count": null,
   "id": "d4cfb9bf-5f54-404d-a8f5-d4d4d13a1bc0",
   "metadata": {},
   "outputs": [],
   "source": []
  },
  {
   "cell_type": "code",
   "execution_count": null,
   "id": "0ea44c5d-ce30-4b5a-8ea5-ef93adbea4f2",
   "metadata": {},
   "outputs": [],
   "source": []
  },
  {
   "cell_type": "code",
   "execution_count": null,
   "id": "650609d1-9fc0-4208-8d05-e3414565d508",
   "metadata": {},
   "outputs": [],
   "source": []
  }
 ],
 "metadata": {
  "kernelspec": {
   "display_name": "awipyenv [conda env:awipyenv]",
   "language": "python",
   "name": "conda-env-awipyenv-py"
  },
  "language_info": {
   "codemirror_mode": {
    "name": "ipython",
    "version": 3
   },
   "file_extension": ".py",
   "mimetype": "text/x-python",
   "name": "python",
   "nbconvert_exporter": "python",
   "pygments_lexer": "ipython3",
   "version": "3.9.7"
  }
 },
 "nbformat": 4,
 "nbformat_minor": 5
}
