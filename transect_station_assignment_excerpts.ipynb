{
 "cells": [
  {
   "cell_type": "code",
   "execution_count": 1,
   "id": "cab4a3ab-1601-4de7-8463-1ee54cfd1e97",
   "metadata": {},
   "outputs": [],
   "source": [
    "import xarray as xr\n",
    "import matplotlib.pyplot as plt\n",
    "import warnings \n",
    "warnings.filterwarnings(\"ignore\")\n",
    "\n",
    "from tqdm import tqdm\n",
    "\n",
    "import cartopy, cartopy.crs as ccrs, cartopy.feature as cfeature, cartopy.mpl.ticker as cticker\n",
    "from cartopy.feature import NaturalEarthFeature\n",
    "from cartopy.util import add_cyclic_point\n",
    "\n",
    "from matplotlib.ticker import (MultipleLocator, AutoMinorLocator)\n",
    "import numpy as np\n",
    "\n",
    "from math import sin, cos, sqrt, atan2, radians "
   ]
  },
  {
   "cell_type": "code",
   "execution_count": null,
   "id": "b48e36f9-1b1c-454b-af9a-516382a773eb",
   "metadata": {},
   "outputs": [],
   "source": [
    "# Approximating the radius of earth in km\n",
    "R = 6373.0\n",
    "\n",
    "def get_distance(lat1, lon1, lat2, lon2):\n",
    "    lat1 = radians(lat1)\n",
    "    lon1 = radians(lon1)\n",
    "    lat2 = radians(lat2)\n",
    "    lon2 = radians(lon2)\n",
    "\n",
    "    a = sin((lat2 - lat1) / 2)**2 + cos(lat1) * cos(lat2) * sin((lon2 - lon1) / 2)**2\n",
    "    \n",
    "    return R * (2 * atan2(sqrt(a), sqrt(1 - a)))"
   ]
  },
  {
   "cell_type": "code",
   "execution_count": null,
   "id": "02cb55b5-152f-47a5-b7ab-0f674d3a7af9",
   "metadata": {},
   "outputs": [],
   "source": [
    "# Calculating the minimum distance between each transect and stations, \n",
    "# and assigning the index of the station with the minimum distance to each transect, \n",
    "# as long as the minimum distance is less than 100. The assignments are stored in a dictionary called assignment\n",
    "\n",
    "assignment = {}\n",
    "for i, transect in enumerate(coastline_bbox.transect):\n",
    "    x = [] # beinhalted dann die distanzen zwischen coastline und transact\n",
    "    for i, station in enumerate(sealevel_bbox.station_name): \n",
    "        x.append(\n",
    "            get_distance(\n",
    "                station.lat, # lat1\n",
    "                station.lon, # lon1\n",
    "                transect[\"lat\"], # lat2\n",
    "                transect[\"lon\"]  # lon2\n",
    "            )\n",
    "        )\n",
    "    \n",
    "    min_diff = min(x)\n",
    "    if min_diff < 100:\n",
    "        assignment[str(i)] = x.index(min_diff)"
   ]
  },
  {
   "cell_type": "code",
   "execution_count": 1,
   "id": "54c8f3e6-cae7-436c-8cd9-ad7ad15da7d4",
   "metadata": {},
   "outputs": [],
   "source": [
    "# Assigning specific station indices to corresponding transects in the assignment dictionary. \n",
    "# Each key-value pair in the dictionary represents the transect index and the index of the station \n",
    "# that is closest to that transect\n",
    "\n",
    "assignment = {\n",
    "# station, transect\n",
    "    \"1\": 7, # transect 1 ist an station 7 am nähesten dran\n",
    "    \"2\": 9, # transect 2 ist an station 9 am nähesten dran\n",
    "    \"199\": 7 # transect 199 ist an station 7 am nähesten dran\n",
    "}"
   ]
  },
  {
   "cell_type": "code",
   "execution_count": null,
   "id": "bca8dc02-f9da-49bd-b2d6-97cc31e80d4d",
   "metadata": {},
   "outputs": [],
   "source": [
    "# Initialize empty lists for x and y coordinates\n",
    "x, y = [], []\n",
    "\n",
    "# Extract the indices of transects and stations from the assignment dictionary\n",
    "transects_idxs = [int(k) for k in assignment.keys()]\n",
    "station_idxs = assignment.values()\n",
    "\n",
    "# Loop through each transect and station index pair\n",
    "for transect_idx, station_idx in zip(transects_idxs, station_idxs):\n",
    "    # Append x-coordinate (coastline activeZone2Land value) to the x list\n",
    "    x.append(coastline_bbox[transect_idx][\"activeZone2Land\"].values.ravel()[0])\n",
    "    \n",
    "    # Append y-coordinate (difference in sealevel height) to the y list\n",
    "    y.append(sealevel_bbox[station_idx][\"hr\"][0] - sealevel_bbox[station_idx][\"hr\"][-1])\n",
    "    # Alternatively, you can calculate the mean of sealevel height differences across time using:\n",
    "    # y.append(sealevel_bbox[station_idx][\"hr\"].mean(\"time\"))\n"
   ]
  }
 ],
 "metadata": {
  "kernelspec": {
   "display_name": "Python [conda env:pikenv2]",
   "language": "python",
   "name": "conda-env-pikenv2-py"
  },
  "language_info": {
   "codemirror_mode": {
    "name": "ipython",
    "version": 3
   },
   "file_extension": ".py",
   "mimetype": "text/x-python",
   "name": "python",
   "nbconvert_exporter": "python",
   "pygments_lexer": "ipython3",
   "version": "3.11.2"
  }
 },
 "nbformat": 4,
 "nbformat_minor": 5
}
